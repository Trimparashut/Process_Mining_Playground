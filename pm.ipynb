{
 "cells": [
  {
   "cell_type": "code",
   "execution_count": 1,
   "metadata": {},
   "outputs": [],
   "source": [
    "import pandas as pd\n",
    "import datetime  \n",
    "from random import randint"
   ]
  },
  {
   "cell_type": "code",
   "execution_count": 2,
   "metadata": {},
   "outputs": [],
   "source": [
    "def insert_activity(c_id,activity,time):\n",
    "    data.loc[data.shape[0]] = [c_id,activity,time]\n",
    "    return 0"
   ]
  },
  {
   "cell_type": "code",
   "execution_count": 3,
   "metadata": {
    "scrolled": false
   },
   "outputs": [],
   "source": [
    "def get_info_from_client():\n",
    "    return 'Client in case'\n",
    "\n",
    "def client_accept():\n",
    "    return 'Client accepted'\n",
    "\n",
    "def client_reject():\n",
    "    return 'Client rejected'\n",
    "\n",
    "def check_cred_story():\n",
    "    return 'Cred story in check'\n",
    "\n",
    "def bad_cred_story():\n",
    "    return 'Client rejected by story'\n",
    "\n",
    "def good_cred_story():\n",
    "    return 'Client accepted by story'\n",
    "\n",
    "def under_check():\n",
    "    return 'Underraiter check'\n",
    "\n",
    "def under_accept():\n",
    "    return 'Client accepted by underwriter'\n",
    "\n",
    "def under_reject():\n",
    "    return 'Client rejected by underwriter'\n",
    "\n",
    "def give_answer():\n",
    "    return 'Answer done'\n",
    "\n",
    "def something_may_be_wrong(stage):\n",
    "    return 'Something wrong on stage ' + stage\n"
   ]
  },
  {
   "cell_type": "code",
   "execution_count": 4,
   "metadata": {},
   "outputs": [],
   "source": [
    "def generate_problem(c_id,activity,time):\n",
    "    if randint(0,100)>98:\n",
    "        insert_activity(c_id,activity,time)\n",
    "    return 0"
   ]
  },
  {
   "cell_type": "code",
   "execution_count": 5,
   "metadata": {},
   "outputs": [],
   "source": [
    "def get_process_log_by_client_with_errors(c_id):\n",
    "    \n",
    "    state=1\n",
    "    time=datetime.datetime.now()\n",
    "    \n",
    "    insert_activity(c_id,get_info_from_client(),time)\n",
    "    generate_problem(c_id,something_may_be_wrong('GET_INFO'),time)\n",
    "    \n",
    "    time+=datetime.timedelta(days=1)\n",
    "    insert_activity(c_id,check_cred_story(),time)\n",
    "    \n",
    "    \n",
    "    generate_problem(c_id,something_may_be_wrong('STORY_CHECK'),time)\n",
    "    time+=datetime.timedelta(days=1)\n",
    "    if randint(0,100)<92:\n",
    "        insert_activity(c_id,good_cred_story(),time)\n",
    "    else:\n",
    "        insert_activity(c_id,bad_cred_story(),time)\n",
    "        state = 0\n",
    "        \n",
    "        \n",
    "    time+=datetime.timedelta(days=1)\n",
    "    if state == 1:\n",
    "        generate_problem(c_id,something_may_be_wrong('UNDER_CHECK'),time)\n",
    "        insert_activity(c_id,under_check(),time)\n",
    "        if randint(0,100)<80:\n",
    "            insert_activity(c_id,under_accept(),time)\n",
    "        else:\n",
    "            insert_activity(c_id,under_reject(),time)\n",
    "            state = 0\n",
    "            \n",
    "            \n",
    "    generate_problem(c_id,something_may_be_wrong('RESOLUTION'),time)\n",
    "    time+=datetime.timedelta(days=1)\n",
    "    if state == 1:\n",
    "        insert_activity(c_id,client_accept(),time)\n",
    "    else:\n",
    "        insert_activity(c_id,client_reject(),time)\n",
    "        \n",
    "        \n",
    "    generate_problem(c_id,something_may_be_wrong('ANSWER'),time)\n",
    "    time+=datetime.timedelta(days=1)\n",
    "    insert_activity(c_id,give_answer(),time)\n",
    "    \n",
    "    return 0"
   ]
  },
  {
   "cell_type": "code",
   "execution_count": 6,
   "metadata": {},
   "outputs": [],
   "source": [
    "def get_process_log_by_client(c_id):\n",
    "    \n",
    "    state=1\n",
    "    time=datetime.datetime.now()\n",
    "    \n",
    "    insert_activity(c_id,get_info_from_client(),time)\n",
    "    \n",
    "    time+=datetime.timedelta(days=1)\n",
    "    insert_activity(c_id,check_cred_story(),time)\n",
    "    \n",
    "    time+=datetime.timedelta(days=1)\n",
    "    if randint(0,100)<92:\n",
    "        insert_activity(c_id,good_cred_story(),time)\n",
    "    else:\n",
    "        insert_activity(c_id,bad_cred_story(),time)\n",
    "        state = 0\n",
    "    \n",
    "    time+=datetime.timedelta(days=1)\n",
    "    if state == 1:\n",
    "        insert_activity(c_id,under_check(),time)\n",
    "        if randint(0,100)<80:\n",
    "            insert_activity(c_id,under_accept(),time)\n",
    "        else:\n",
    "            insert_activity(c_id,under_reject(),time)\n",
    "            state = 0\n",
    "    \n",
    "    time+=datetime.timedelta(days=1)\n",
    "    if state == 1:\n",
    "        insert_activity(c_id,client_accept(),time)\n",
    "    else:\n",
    "        insert_activity(c_id,client_reject(),time)\n",
    "    \n",
    "    time+=datetime.timedelta(days=1)\n",
    "    insert_activity(c_id,give_answer(),time)\n",
    "    \n",
    "    return 0"
   ]
  },
  {
   "cell_type": "code",
   "execution_count": 7,
   "metadata": {
    "scrolled": true
   },
   "outputs": [],
   "source": [
    "data = pd.DataFrame(columns=['id','concept:name','time:timestamp'])\n",
    "for c_id in range(1,1001):\n",
    "    get_process_log_by_client_with_errors(c_id)"
   ]
  },
  {
   "cell_type": "code",
   "execution_count": 8,
   "metadata": {},
   "outputs": [],
   "source": [
    "data.to_csv('log.csv',index=False)"
   ]
  },
  {
   "cell_type": "code",
   "execution_count": 9,
   "metadata": {},
   "outputs": [],
   "source": [
    "from pm4py.algo.discovery.alpha import factory as miner\n",
    "from pm4py.objects.log.importer.csv import factory as imp\n",
    "from pm4py.objects.conversion.log import factory as conv\n",
    "from pm4py.util import constants\n",
    "from pm4py.statistics.traces.log import case_statistics"
   ]
  },
  {
   "cell_type": "code",
   "execution_count": 10,
   "metadata": {},
   "outputs": [],
   "source": [
    "stream = imp.apply('log.csv')"
   ]
  },
  {
   "cell_type": "code",
   "execution_count": 11,
   "metadata": {
    "scrolled": true
   },
   "outputs": [],
   "source": [
    "log = conv.apply(stream,parameters={constants.PARAMETER_CONSTANT_CASEID_KEY:\"id\",\n",
    "                                    constants.PARAMETER_CONSTANT_ACTIVITY_KEY:\"concept:name\",\n",
    "                                   constants.PARAMETER_CONSTANT_TIMESTAMP_KEY:\"time\",\n",
    "                                   })\n"
   ]
  },
  {
   "cell_type": "code",
   "execution_count": 12,
   "metadata": {
    "scrolled": true
   },
   "outputs": [],
   "source": [
    "net, initial_marking, final_marking = miner.apply(log)"
   ]
  },
  {
   "cell_type": "code",
   "execution_count": null,
   "metadata": {},
   "outputs": [],
   "source": [
    "from pm4py.algo.discovery.dfg import factory as dfg_f\n",
    "from pm4py.visualization.dfg import factory as dfg_vis\n",
    "\n",
    "dfg = dfg_f.apply(log)\n",
    "gviz = dfg_vis.apply(dfg,log,variant='frequency')\n",
    "pet.save(gviz,'viz_dfg.png')"
   ]
  },
  {
   "cell_type": "code",
   "execution_count": 13,
   "metadata": {},
   "outputs": [],
   "source": [
    "from pm4py.visualization.petrinet import factory as vis\n",
    "\n",
    "\n",
    "gviz = vis.apply(net,initial_marking,final_marking)\n",
    "vis.save(gviz,'viz_descr.png')"
   ]
  },
  {
   "cell_type": "code",
   "execution_count": 19,
   "metadata": {},
   "outputs": [
    {
     "data": {
      "text/plain": [
       "[{'id': 357,\n",
       "  'concept:name': 'Client in case',\n",
       "  'time:timestamp': Timestamp('2019-09-18 13:06:08.795016+0000', tz='UTC')},\n",
       " {'id': 357,\n",
       "  'concept:name': 'Cred story in check',\n",
       "  'time:timestamp': Timestamp('2019-09-19 13:06:08.795016+0000', tz='UTC')},\n",
       " {'id': 357,\n",
       "  'concept:name': 'Client rejected by story',\n",
       "  'time:timestamp': Timestamp('2019-09-20 13:06:08.795016+0000', tz='UTC')},\n",
       " {'id': 357,\n",
       "  'concept:name': 'Client rejected',\n",
       "  'time:timestamp': Timestamp('2019-09-22 13:06:08.795016+0000', tz='UTC')},\n",
       " {'id': 357,\n",
       "  'concept:name': 'Answer done',\n",
       "  'time:timestamp': Timestamp('2019-09-23 13:06:08.795016+0000', tz='UTC')}]"
      ]
     },
     "execution_count": 19,
     "metadata": {},
     "output_type": "execute_result"
    }
   ],
   "source": [
    "case_statistics.get_events(log,case_id=357)"
   ]
  },
  {
   "cell_type": "code",
   "execution_count": null,
   "metadata": {},
   "outputs": [],
   "source": [
    "dfg = dfg_f.apply(log,variant='performance')\n",
    "gviz = dfg_vis.apply(dfg,log,variant='performance')\n",
    "dfg_vis.save(gviz,'viz_perf.png')"
   ]
  },
  {
   "cell_type": "code",
   "execution_count": 16,
   "metadata": {},
   "outputs": [],
   "source": [
    "var_with_count = case_statistics.get_variant_statistics(log)"
   ]
  },
  {
   "cell_type": "code",
   "execution_count": 17,
   "metadata": {},
   "outputs": [
    {
     "data": {
      "text/plain": [
       "[{'variant': 'Client in case,Cred story in check,Client accepted by story,Underraiter check,Client accepted by underwriter,Client accepted,Answer done',\n",
       "  'count': 670},\n",
       " {'variant': 'Client in case,Cred story in check,Client accepted by story,Underraiter check,Client rejected by underwriter,Client rejected,Answer done',\n",
       "  'count': 165},\n",
       " {'variant': 'Client in case,Cred story in check,Client rejected by story,Client rejected,Answer done',\n",
       "  'count': 73},\n",
       " {'variant': 'Client in case,Cred story in check,Client accepted by story,Underraiter check,Client accepted by underwriter,Client accepted,Something wrong on stage ANSWER,Answer done',\n",
       "  'count': 17},\n",
       " {'variant': 'Client in case,Cred story in check,Client accepted by story,Something wrong on stage UNDER_CHECK,Underraiter check,Client accepted by underwriter,Client accepted,Answer done',\n",
       "  'count': 16},\n",
       " {'variant': 'Client in case,Something wrong on stage GET_INFO,Cred story in check,Client accepted by story,Underraiter check,Client accepted by underwriter,Client accepted,Answer done',\n",
       "  'count': 13},\n",
       " {'variant': 'Client in case,Cred story in check,Client accepted by story,Underraiter check,Client accepted by underwriter,Something wrong on stage RESOLUTION,Client accepted,Answer done',\n",
       "  'count': 13},\n",
       " {'variant': 'Client in case,Cred story in check,Something wrong on stage STORY_CHECK,Client accepted by story,Underraiter check,Client accepted by underwriter,Client accepted,Answer done',\n",
       "  'count': 7},\n",
       " {'variant': 'Client in case,Something wrong on stage GET_INFO,Cred story in check,Client accepted by story,Underraiter check,Client rejected by underwriter,Client rejected,Answer done',\n",
       "  'count': 4},\n",
       " {'variant': 'Client in case,Cred story in check,Something wrong on stage STORY_CHECK,Client rejected by story,Client rejected,Answer done',\n",
       "  'count': 4},\n",
       " {'variant': 'Client in case,Cred story in check,Client rejected by story,Something wrong on stage RESOLUTION,Client rejected,Answer done',\n",
       "  'count': 3},\n",
       " {'variant': 'Client in case,Cred story in check,Client rejected by story,Client rejected,Something wrong on stage ANSWER,Answer done',\n",
       "  'count': 3},\n",
       " {'variant': 'Client in case,Cred story in check,Client accepted by story,Underraiter check,Client rejected by underwriter,Client rejected,Something wrong on stage ANSWER,Answer done',\n",
       "  'count': 3},\n",
       " {'variant': 'Client in case,Something wrong on stage GET_INFO,Cred story in check,Client rejected by story,Client rejected,Answer done',\n",
       "  'count': 2},\n",
       " {'variant': 'Client in case,Cred story in check,Something wrong on stage STORY_CHECK,Client accepted by story,Underraiter check,Client rejected by underwriter,Client rejected,Answer done',\n",
       "  'count': 2},\n",
       " {'variant': 'Client in case,Cred story in check,Client accepted by story,Something wrong on stage UNDER_CHECK,Underraiter check,Client rejected by underwriter,Client rejected,Answer done',\n",
       "  'count': 2},\n",
       " {'variant': 'Client in case,Cred story in check,Something wrong on stage STORY_CHECK,Client accepted by story,Underraiter check,Client rejected by underwriter,Something wrong on stage RESOLUTION,Client rejected,Answer done',\n",
       "  'count': 1},\n",
       " {'variant': 'Client in case,Cred story in check,Something wrong on stage STORY_CHECK,Client accepted by story,Underraiter check,Client accepted by underwriter,Client accepted,Something wrong on stage ANSWER,Answer done',\n",
       "  'count': 1},\n",
       " {'variant': 'Client in case,Cred story in check,Client accepted by story,Underraiter check,Client accepted by underwriter,Something wrong on stage RESOLUTION,Client accepted,Something wrong on stage ANSWER,Answer done',\n",
       "  'count': 1}]"
      ]
     },
     "execution_count": 17,
     "metadata": {},
     "output_type": "execute_result"
    }
   ],
   "source": [
    "var_with_count"
   ]
  },
  {
   "cell_type": "code",
   "execution_count": 26,
   "metadata": {},
   "outputs": [
    {
     "data": {
      "text/plain": [
       "{'concept:name': 1}"
      ]
     },
     "execution_count": 26,
     "metadata": {},
     "output_type": "execute_result"
    }
   ],
   "source": [
    "log[0].attributes"
   ]
  }
 ],
 "metadata": {
  "kernelspec": {
   "display_name": "Python 3",
   "language": "python",
   "name": "python3"
  },
  "language_info": {
   "codemirror_mode": {
    "name": "ipython",
    "version": 3
   },
   "file_extension": ".py",
   "mimetype": "text/x-python",
   "name": "python",
   "nbconvert_exporter": "python",
   "pygments_lexer": "ipython3",
   "version": "3.7.3"
  }
 },
 "nbformat": 4,
 "nbformat_minor": 2
}
